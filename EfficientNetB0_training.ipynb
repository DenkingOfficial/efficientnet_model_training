{
 "cells": [
  {
   "cell_type": "code",
   "execution_count": null,
   "metadata": {},
   "outputs": [],
   "source": [
    "import os\n",
    "import numpy as np\n",
    "import matplotlib.pyplot as plt\n",
    "\n",
    "import tensorflow as tf\n",
    "from tensorflow import keras\n",
    "from keras.preprocessing import image\n",
    "from keras.preprocessing.image import ImageDataGenerator\n",
    "from keras.layers import Dense, Input, Activation, add, Add, Dropout, BatchNormalization, GlobalAveragePooling2D\n",
    "from keras.models import Sequential, Model\n",
    "from keras import optimizers\n",
    "\n",
    "from tensorflow.keras.applications import EfficientNetB0\n",
    "from tensorflow.keras.applications.efficientnet import preprocess_input"
   ]
  },
  {
   "cell_type": "code",
   "execution_count": null,
   "metadata": {},
   "outputs": [],
   "source": [
    "IMG_WIDTH = 224\n",
    "IMG_HEIGHT = 224\n",
    "CHANNELS = 3\n",
    "CLASSES = 18\n",
    "batch_size = 64\n",
    "train_dir = './TrainCropped/'\n",
    "test_dir = './TestCropped/'"
   ]
  },
  {
   "cell_type": "code",
   "execution_count": null,
   "metadata": {},
   "outputs": [],
   "source": [
    "train_datagen = ImageDataGenerator(\n",
    "    preprocessing_function=preprocess_input,\n",
    "    rotation_range=90,\n",
    "    fill_mode='constant',\n",
    "    cval=0xCC,\n",
    "    horizontal_flip=True,\n",
    "    vertical_flip=True,\n",
    "    channel_shift_range=100,\n",
    "    validation_split=0.2\n",
    "    )\n",
    "\n",
    "test_datagen = image.ImageDataGenerator(preprocessing_function=preprocess_input)"
   ]
  },
  {
   "cell_type": "code",
   "execution_count": null,
   "metadata": {},
   "outputs": [],
   "source": [
    "train_generator = train_datagen.flow_from_directory(\n",
    "            train_dir,\n",
    "            target_size=(IMG_WIDTH,IMG_HEIGHT),\n",
    "            batch_size=batch_size,\n",
    "            class_mode='categorical',\n",
    "            shuffle=True,\n",
    "            subset='training'\n",
    "        )"
   ]
  },
  {
   "cell_type": "code",
   "execution_count": null,
   "metadata": {},
   "outputs": [],
   "source": [
    "validation_generator = train_datagen.flow_from_directory(\n",
    "            train_dir,\n",
    "            target_size=(IMG_WIDTH,IMG_HEIGHT),\n",
    "            batch_size=batch_size,\n",
    "            class_mode='categorical',\n",
    "            shuffle=False,\n",
    "            subset='validation'\n",
    "        )"
   ]
  },
  {
   "cell_type": "code",
   "execution_count": null,
   "metadata": {},
   "outputs": [],
   "source": [
    "test_generator = test_datagen.flow_from_directory(\n",
    "            test_dir,\n",
    "            target_size=(IMG_WIDTH,IMG_HEIGHT),\n",
    "            batch_size=batch_size,\n",
    "            class_mode='categorical',\n",
    "            shuffle=False\n",
    ")"
   ]
  },
  {
   "cell_type": "code",
   "execution_count": null,
   "metadata": {},
   "outputs": [],
   "source": [
    "model_ENB0 = EfficientNetB0(include_top=False, weights='imagenet', input_shape=(IMG_WIDTH,IMG_HEIGHT,CHANNELS))\n",
    "model_ENB0.trainable = False\n",
    "model_ENB0.summary()"
   ]
  },
  {
   "cell_type": "code",
   "execution_count": null,
   "metadata": {},
   "outputs": [],
   "source": [
    "model = Sequential()\n",
    "model.add(model_ENB0)\n",
    "model.add(GlobalAveragePooling2D())\n",
    "model.add(Dropout(0.2))\n",
    "model.add(Dense(CLASSES,activation=\"softmax\"))\n",
    "model.summary()"
   ]
  },
  {
   "cell_type": "code",
   "execution_count": null,
   "metadata": {},
   "outputs": [],
   "source": [
    "model.compile(loss = 'categorical_crossentropy',\n",
    "              optimizer = optimizers.Adam(learning_rate=1e-2),\n",
    "              metrics=['accuracy'])\n",
    " \n",
    "STEP_SIZE_TRAIN=train_generator.n // train_generator.batch_size\n",
    "STEP_SIZE_VALID=validation_generator.n  // validation_generator.batch_size\n",
    "\n",
    "epochs = 10\n",
    "\n",
    "history = model.fit_generator(train_generator,\n",
    "                             steps_per_epoch=STEP_SIZE_TRAIN,\n",
    "                             epochs=epochs,\n",
    "                             \n",
    "                             validation_data=validation_generator,\n",
    "                             validation_steps=STEP_SIZE_VALID)"
   ]
  },
  {
   "cell_type": "code",
   "execution_count": null,
   "metadata": {},
   "outputs": [],
   "source": [
    "scores = model.evaluate(test_generator, verbose=1)"
   ]
  },
  {
   "cell_type": "code",
   "execution_count": null,
   "metadata": {},
   "outputs": [],
   "source": [
    "model_ENB0.trainable = True\n",
    "set_trainable = False\n",
    "\n",
    "for layer in model_ENB0.layers:\n",
    "    if layer.name == 'block6d_se_excite':\n",
    "        set_trainable = True\n",
    "    if set_trainable:\n",
    "        if not isinstance(layer, BatchNormalization):\n",
    "            layer.trainable = True\n",
    "        else:\n",
    "            layer.trainable = False\n",
    "    else:\n",
    "        layer.trainable = False\n",
    "        \n",
    "model.summary()"
   ]
  },
  {
   "cell_type": "code",
   "execution_count": null,
   "metadata": {},
   "outputs": [],
   "source": [
    "# Fine Tuning\n",
    "model.compile(loss = 'categorical_crossentropy',\n",
    "              optimizer = optimizers.Adam(learning_rate=1e-4),\n",
    "              metrics=['accuracy'])\n",
    " \n",
    "STEP_SIZE_TRAIN=train_generator.n // train_generator.batch_size\n",
    "STEP_SIZE_VALID=validation_generator.n  // validation_generator.batch_size\n",
    "\n",
    "epochs = 5\n",
    "\n",
    "history = model.fit_generator(train_generator,\n",
    "                             steps_per_epoch=STEP_SIZE_TRAIN,\n",
    "                             epochs=epochs,\n",
    "                             validation_data=validation_generator,\n",
    "                             validation_steps=STEP_SIZE_VALID)"
   ]
  },
  {
   "cell_type": "code",
   "execution_count": null,
   "metadata": {},
   "outputs": [],
   "source": [
    "scores = model.evaluate(test_generator, verbose=1)"
   ]
  },
  {
   "cell_type": "code",
   "execution_count": null,
   "metadata": {},
   "outputs": [],
   "source": [
    "model.save('cats_18_EfficientNetB0.h5')"
   ]
  },
  {
   "cell_type": "code",
   "execution_count": null,
   "metadata": {},
   "outputs": [],
   "source": [
    "CAT_BREEDS = [\n",
    "               'Бенгальская', 'Бомбейская', 'Британская короткошерстная',\n",
    "               'Бурмилла', 'Девон-рекс', 'Европейская короткошерстная',\n",
    "               'Экзотическая короткошерстная', 'Мейн-кун', 'Нибелунг',\n",
    "               'Персидская', 'Рэгдолл', 'Русская голубая',\n",
    "               'Шотландская вислоухая', 'Сибирская', 'Сингапурская',\n",
    "               'Сомалийская', 'Сфинкс', 'Черепаховая'\n",
    "            ]"
   ]
  },
  {
   "cell_type": "code",
   "execution_count": null,
   "metadata": {},
   "outputs": [],
   "source": [
    "from tensorflow.keras.preprocessing.image import load_img\n",
    "from tensorflow.keras.preprocessing.image import img_to_array"
   ]
  },
  {
   "cell_type": "code",
   "execution_count": null,
   "metadata": {},
   "outputs": [],
   "source": [
    "image = load_img('cat.png', target_size=(224, 224))\n",
    "image = img_to_array(image)\n",
    "image = image.reshape((1, image.shape[0], image.shape[1], image.shape[2]))\n",
    "pred = model.predict(image)\n",
    "pred = np.argmax(pred)\n",
    "print(CAT_BREEDS[pred])"
   ]
  }
 ],
 "metadata": {
  "kernelspec": {
   "display_name": "study_env",
   "language": "python",
   "name": "python3"
  },
  "language_info": {
   "codemirror_mode": {
    "name": "ipython",
    "version": 3
   },
   "file_extension": ".py",
   "mimetype": "text/x-python",
   "name": "python",
   "nbconvert_exporter": "python",
   "pygments_lexer": "ipython3",
   "version": "3.8.13"
  },
  "orig_nbformat": 4,
  "vscode": {
   "interpreter": {
    "hash": "f0df5dfe5a6096b921c189de059f4e2c0d2effe3e7c91471528ca8f3fe1db6f4"
   }
  }
 },
 "nbformat": 4,
 "nbformat_minor": 2
}
